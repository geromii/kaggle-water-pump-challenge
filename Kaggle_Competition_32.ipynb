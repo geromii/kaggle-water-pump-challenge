{
  "nbformat": 4,
  "nbformat_minor": 0,
  "metadata": {
    "colab": {
      "provenance": []
    },
    "kernelspec": {
      "name": "python3",
      "display_name": "Python 3"
    }
  },
  "cells": [
    {
      "cell_type": "code",
      "metadata": {
        "id": "xfYYbCMLNEO1"
      },
      "source": [
        "import pandas as pd"
      ],
      "execution_count": null,
      "outputs": []
    },
    {
      "cell_type": "code",
      "metadata": {
        "id": "USLFJnR4NCCF"
      },
      "source": [
        "%%capture\n",
        "\n",
        "import sys\n",
        "\n",
        "# If you're on Colab:\n",
        "if 'google.colab' in sys.modules:\n",
        "    DATA_PATH = 'https://raw.githubusercontent.com/LambdaSchool/DS-Unit-2-Kaggle-Challenge/master/data/'\n",
        "    !pip install category_encoders==2.*\n",
        "    !pip install pandas-profiling==2.*\n",
        "\n",
        "# If you're working locally:\n",
        "else:\n",
        "    DATA_PATH = '../data/'"
      ],
      "execution_count": null,
      "outputs": []
    },
    {
      "cell_type": "code",
      "metadata": {
        "id": "gPYqcqCLM82o"
      },
      "source": [
        "import numpy as np\n",
        "import pandas as pd\n",
        "from sklearn.model_selection import train_test_split\n",
        "\n",
        "# Merge train_features.csv & train_labels.csv\n",
        "train = pd.merge(pd.read_csv(DATA_PATH+'waterpumps/train_features.csv'),\n",
        "                 pd.read_csv(DATA_PATH+'waterpumps/train_labels.csv'))\n",
        "\n",
        "# Read test_features.csv & sample_submission.csv\n",
        "test = pd.read_csv(DATA_PATH+'waterpumps/test_features.csv')\n",
        "sample_submission = pd.read_csv(DATA_PATH+'waterpumps/sample_submission.csv')\n",
        "\n",
        "# Split train into train & val\n",
        "train, val = train_test_split(train, train_size=0.8, test_size=0.20,\n",
        "                              stratify=train['status_group'], random_state=42)\n",
        "\n",
        "\n",
        "def wrangle(X):\n",
        "    \"\"\"Wrangle train, validate, and test sets in the same way\"\"\"\n",
        "\n",
        "    # Prevent SettingWithCopyWarning\n",
        "    X = X.copy()\n",
        "\n",
        "\n",
        "    X['latitude'] = X['latitude'].replace(-2e-08, 0)\n",
        "\n",
        "\n",
        "    cols_with_zeros = ['longitude', 'latitude', 'construction_year',\n",
        "                       'gps_height', 'population']\n",
        "    for col in cols_with_zeros:\n",
        "        X[col] = X[col].replace(0, np.nan)\n",
        "        X[col+'_MISSING'] = X[col].isnull()\n",
        "\n",
        "    # Drop duplicate columns\n",
        "    duplicates = ['quantity_group', 'payment_type']\n",
        "    X = X.drop(columns=duplicates)\n",
        "\n",
        "    # Drop recorded_by (never varies) and id (always varies, random)\n",
        "    unusable_variance = ['recorded_by','id','wpt_name','quality_group','region_code']\n",
        "    X = X.drop(columns=unusable_variance)\n",
        "\n",
        "    # return the wrangled dataframe\n",
        "    X['district_code'] = X['district_code'].astype(object)\n",
        "\n",
        "    return X\n",
        "\n",
        "\n",
        "\n",
        "train = wrangle(train)\n",
        "val = wrangle(val)\n",
        "test = wrangle(test)"
      ],
      "execution_count": null,
      "outputs": []
    },
    {
      "cell_type": "code",
      "metadata": {
        "id": "ojkxOzi-Qv4x"
      },
      "source": [
        "pd.crosstab(train.subvillage, train.region)"
      ],
      "execution_count": null,
      "outputs": []
    },
    {
      "cell_type": "code",
      "metadata": {
        "id": "JeY7uMW3uO-m"
      },
      "source": [
        "\n",
        "\n",
        "val['status_group'] = val['status_group'].apply(label_map)"
      ],
      "execution_count": null,
      "outputs": []
    },
    {
      "cell_type": "code",
      "metadata": {
        "id": "HombLgn8YL4X"
      },
      "source": [
        "# 'recorded_by','id','wpt_name','date_recorded','funder', 'installer', 'basin', 'subvillage', 'region', 'lga', 'ward', 'public_meeting',\n",
        "#                          'scheme_management', 'scheme_name', 'permit', 'extraction_type', 'extraction_type_group', 'extraction_type_class', 'management',\n",
        "#                          'management_group', 'payment', 'water_quality', 'quality_group', 'quantity', 'source', 'source_type', 'source_class', 'waterpoint_type',\n",
        "#                          'waterpoint_type_group', 'longitude_MISSING', 'latitude_MISSING', 'construction_year_MISSING', 'gps_height_MISSING', 'population_MISSING']"
      ],
      "execution_count": null,
      "outputs": []
    },
    {
      "cell_type": "code",
      "metadata": {
        "id": "pQBUORhE9hvh",
        "colab": {
          "base_uri": "https://localhost:8080/",
          "height": 714
        },
        "outputId": "281fc787-e4f3-4854-df83-c31029ba7616"
      },
      "source": [
        "train.dtypes"
      ],
      "execution_count": null,
      "outputs": [
        {
          "output_type": "execute_result",
          "data": {
            "text/plain": [
              "amount_tsh                   float64\n",
              "date_recorded                 object\n",
              "funder                        object\n",
              "gps_height                   float64\n",
              "installer                     object\n",
              "longitude                    float64\n",
              "latitude                     float64\n",
              "num_private                    int64\n",
              "basin                         object\n",
              "subvillage                    object\n",
              "region                        object\n",
              "region_code                    int64\n",
              "district_code                  int64\n",
              "lga                           object\n",
              "ward                          object\n",
              "population                   float64\n",
              "public_meeting                object\n",
              "scheme_management             object\n",
              "scheme_name                   object\n",
              "permit                        object\n",
              "construction_year            float64\n",
              "extraction_type               object\n",
              "extraction_type_group         object\n",
              "extraction_type_class         object\n",
              "management                    object\n",
              "management_group              object\n",
              "payment                       object\n",
              "water_quality                 object\n",
              "quantity                      object\n",
              "source                        object\n",
              "source_type                   object\n",
              "source_class                  object\n",
              "waterpoint_type               object\n",
              "waterpoint_type_group         object\n",
              "status_group                  object\n",
              "longitude_MISSING               bool\n",
              "latitude_MISSING                bool\n",
              "construction_year_MISSING       bool\n",
              "gps_height_MISSING              bool\n",
              "population_MISSING              bool\n",
              "dtype: object"
            ]
          },
          "metadata": {
            "tags": []
          },
          "execution_count": 14
        }
      ]
    },
    {
      "cell_type": "code",
      "metadata": {
        "id": "MGcSRbedO-4K",
        "colab": {
          "base_uri": "https://localhost:8080/",
          "height": 136
        },
        "outputId": "43d42208-6e62-4b51-ae09-1f507b06e412"
      },
      "source": [
        "train['quality_group'].value_counts()"
      ],
      "execution_count": null,
      "outputs": [
        {
          "output_type": "execute_result",
          "data": {
            "text/plain": [
              "good        40598\n",
              "salty        4179\n",
              "unknown      1503\n",
              "milky         658\n",
              "colored       403\n",
              "fluoride      179\n",
              "Name: quality_group, dtype: int64"
            ]
          },
          "metadata": {
            "tags": []
          },
          "execution_count": 15
        }
      ]
    },
    {
      "cell_type": "code",
      "metadata": {
        "id": "WdSkGkuIUU0V"
      },
      "source": [
        "train['status_group'] = train['status_group'].apply(label_map)"
      ],
      "execution_count": null,
      "outputs": []
    },
    {
      "cell_type": "code",
      "metadata": {
        "id": "TjJXkdGxNUwn",
        "colab": {
          "base_uri": "https://localhost:8080/",
          "height": 561
        },
        "outputId": "d4f6b9d6-2497-4707-fb32-d05cf212197b"
      },
      "source": [
        "# The status_group column is the target\n",
        "target = 'status_group'\n",
        "\n",
        "# Get a dataframe with all train columns except the target\n",
        "train_features = train.drop(columns=[target])\n",
        "\n",
        "# Get a list of the numeric features\n",
        "numeric_features = train_features.select_dtypes(include='number').columns.tolist()\n",
        "\n",
        "# Get a series with the cardinality of the nonnumeric features\n",
        "cardinality = train_features.select_dtypes(exclude='number').nunique()\n",
        "\n",
        "# Get a list of all categorical features with cardinality <= 50\n",
        "categorical_features = cardinality[cardinality <= 50].index.tolist()\n",
        "\n",
        "# Combine the lists\n",
        "features = numeric_features + categorical_features\n",
        "cardinality"
      ],
      "execution_count": null,
      "outputs": [
        {
          "output_type": "execute_result",
          "data": {
            "text/plain": [
              "date_recorded                  349\n",
              "funder                        1716\n",
              "installer                     1929\n",
              "basin                            9\n",
              "subvillage                   17231\n",
              "region                          21\n",
              "district_code                   20\n",
              "lga                            124\n",
              "ward                          2082\n",
              "public_meeting                   2\n",
              "scheme_management               12\n",
              "scheme_name                   2563\n",
              "permit                           2\n",
              "extraction_type                 18\n",
              "extraction_type_group           13\n",
              "extraction_type_class            7\n",
              "management                      12\n",
              "management_group                 5\n",
              "payment                          7\n",
              "water_quality                    8\n",
              "quantity                         5\n",
              "source                          10\n",
              "source_type                      7\n",
              "source_class                     3\n",
              "waterpoint_type                  7\n",
              "waterpoint_type_group            6\n",
              "longitude_MISSING                2\n",
              "latitude_MISSING                 2\n",
              "construction_year_MISSING        2\n",
              "gps_height_MISSING               2\n",
              "population_MISSING               2\n",
              "dtype: int64"
            ]
          },
          "metadata": {
            "tags": []
          },
          "execution_count": 16
        }
      ]
    },
    {
      "cell_type": "code",
      "metadata": {
        "id": "YaFez1UMNYbn"
      },
      "source": [
        "# Arrange data into X features matrix and y target vector\n",
        "X_train = train[features]\n",
        "y_train = train[target]\n",
        "X_val = val[features]\n",
        "y_val = val[target]\n",
        "X_test = test[features]"
      ],
      "execution_count": null,
      "outputs": []
    },
    {
      "cell_type": "code",
      "metadata": {
        "id": "pI-1XDtxNbJ9",
        "colab": {
          "base_uri": "https://localhost:8080/",
          "height": 68
        },
        "outputId": "940cbac8-71bb-4398-c4e5-b779eda0781f"
      },
      "source": [
        "# TODO\n",
        "\n",
        "# Select K-Best results in a decrease in accuracy over the vanilla RandomForest.\n",
        "%%time\n",
        "import category_encoders as ce\n",
        "from sklearn.ensemble import RandomForestClassifier\n",
        "from sklearn.impute import SimpleImputer\n",
        "from sklearn.pipeline import make_pipeline\n",
        "from sklearn.feature_selection import SelectKBest\n",
        "\n",
        "# Are selection methods like selectkbest necessary with tree based models? \\\\Doesnt the model do a good job itself of determining what features are relevant or not?\n",
        "pipeline = make_pipeline(\n",
        "    ce.OrdinalEncoder(),\n",
        "    SimpleImputer(strategy='mean'),\n",
        "    SelectKBest(k='all'),\n",
        "    RandomForestClassifier(random_state=55, n_jobs=-1)\n",
        ")\n",
        "\n",
        "pipeline.fit(X_train, y_train)\n",
        "print ('Validation Accuracy', pipeline.score(X_val, y_val))"
      ],
      "execution_count": null,
      "outputs": [
        {
          "output_type": "stream",
          "text": [
            "Validation Accuracy 0.8053030303030303\n",
            "CPU times: user 14.2 s, sys: 256 ms, total: 14.4 s\n",
            "Wall time: 8.02 s\n"
          ],
          "name": "stdout"
        }
      ]
    },
    {
      "cell_type": "code",
      "metadata": {
        "id": "BdPnCWUQPsXF"
      },
      "source": [
        "# TODO\n",
        "X_train = train.drop(columns=target)\n",
        "y_train = train[target]\n",
        "X_val = val.drop(columns=target)\n",
        "y_val = val[target]\n",
        "X_test = test"
      ],
      "execution_count": null,
      "outputs": []
    },
    {
      "cell_type": "code",
      "metadata": {
        "id": "WZECXIaMQQSa",
        "colab": {
          "base_uri": "https://localhost:8080/",
          "height": 34
        },
        "outputId": "2f5fee7e-cbb6-4bc2-f805-d18f41a648de"
      },
      "source": [
        "from sklearn.naive_bayes import GaussianNB\n",
        "from sklearn.preprocessing import StandardScaler\n",
        "from sklearn.decomposition import IncrementalPCA\n",
        "pipeline = make_pipeline(ce.OrdinalEncoder(), SimpleImputer(strategy='mean'), StandardScaler(),\n",
        "    RandomForestClassifier(random_state=66))\n",
        "\n",
        "\n",
        "pipeline.fit(X_train, y_train)\n",
        "print ('Validation Accuracy', pipeline.score(X_val, y_val))"
      ],
      "execution_count": null,
      "outputs": [
        {
          "output_type": "stream",
          "text": [
            "Validation Accuracy 0.8088383838383838\n"
          ],
          "name": "stdout"
        }
      ]
    },
    {
      "cell_type": "code",
      "metadata": {
        "id": "cq90Jowdlw4Z"
      },
      "source": [
        "submission"
      ],
      "execution_count": null,
      "outputs": []
    },
    {
      "cell_type": "code",
      "metadata": {
        "id": "XPk2u2akiqC_"
      },
      "source": [
        "submission.to_csv('50Forest.csv', index=False)"
      ],
      "execution_count": null,
      "outputs": []
    },
    {
      "cell_type": "code",
      "metadata": {
        "id": "KYqKcxoMdv6Z"
      },
      "source": [
        "y_pred = pipeline.predict(X_test)"
      ],
      "execution_count": null,
      "outputs": []
    },
    {
      "cell_type": "code",
      "metadata": {
        "id": "f8g4FNSImFJU"
      },
      "source": [
        "submission = sample_submission.copy()\n",
        "submission['status_group']=y_pred\n",
        "submission.to_csv('jeremy_submission_04.csv', index=False)"
      ],
      "execution_count": null,
      "outputs": []
    },
    {
      "cell_type": "code",
      "metadata": {
        "id": "QJcuSRDd3qKj"
      },
      "source": [],
      "execution_count": null,
      "outputs": []
    },
    {
      "cell_type": "code",
      "metadata": {
        "id": "7BNBge7zmGLM",
        "colab": {
          "base_uri": "https://localhost:8080/",
          "height": 34
        },
        "outputId": "f18bb91d-caf3-4c82-bb7d-41164d501b38"
      },
      "source": [
        "from sklearn.naive_bayes import GaussianNB\n",
        "from sklearn.preprocessing import StandardScaler\n",
        "from sklearn.decomposition import IncrementalPCA\n",
        "pipeline = make_pipeline(ce.OrdinalEncoder(), SimpleImputer(strategy='mean'), StandardScaler(),\n",
        "    RandomForestClassifier(n_estimators=500,random_state=55))\n",
        "\n",
        "\n",
        "pipeline.fit(X_train, y_train)\n",
        "print ('Validation Accuracy', pipeline.score(X_val, y_val))"
      ],
      "execution_count": null,
      "outputs": [
        {
          "output_type": "stream",
          "text": [
            "Validation Accuracy 0.8107744107744108\n"
          ],
          "name": "stdout"
        }
      ]
    },
    {
      "cell_type": "code",
      "metadata": {
        "id": "hL-t-aJIqfZ0"
      },
      "source": [
        "y_pred = pipeline.predict(X_test)\n",
        "submission = sample_submission.copy()\n",
        "submission['status_group']=y_pred\n",
        "submission.to_csv('COORDS_jeremy_submission_01.csv', index=False)"
      ],
      "execution_count": null,
      "outputs": []
    },
    {
      "cell_type": "code",
      "metadata": {
        "id": "6qTE1922ZMDW"
      },
      "source": [],
      "execution_count": null,
      "outputs": []
    }
  ]
}